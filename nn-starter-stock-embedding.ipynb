{
 "cells": [
  {
   "cell_type": "markdown",
   "metadata": {
    "_cell_guid": "b1076dfc-b9ad-4769-8c92-a6c4dae69d19",
    "_uuid": "8f2839f25d086af736a60e9eeb907d3b93b6e0e5",
    "execution": {
     "iopub.execute_input": "2021-07-05T17:50:17.732318Z",
     "iopub.status.busy": "2021-07-05T17:50:17.731903Z",
     "iopub.status.idle": "2021-07-05T17:50:19.647572Z",
     "shell.execute_reply": "2021-07-05T17:50:19.646491Z",
     "shell.execute_reply.started": "2021-07-05T17:50:17.732235Z"
    }
   },
   "source": [
    "## NN starter\n",
    "\n",
    "From https://www.kaggle.com/lucasmorin/tf-keras-nn-with-stock-embedding\n",
    "\n",
    "A simple NN starter using stock Embedding. \n",
    "\n",
    "Heavily inspired from this notebook for the feature engineering part:\n",
    "https://www.kaggle.com/manels/lgb-starter\n",
    "\n",
    "Embedding layer from :\n",
    "https://www.kaggle.com/colinmorris/embedding-layers\n",
    "\n",
    "Also see:\n",
    "* https://www.kaggle.com/jiashenliu/introduction-to-financial-concepts-and-data\n",
    "* https://www.kaggle.com/c/optiver-realized-volatility-prediction/discussion/250324"
   ]
  },
  {
   "cell_type": "code",
   "execution_count": 1,
   "metadata": {
    "execution": {
     "iopub.execute_input": "2021-08-07T06:59:10.267034Z",
     "iopub.status.busy": "2021-08-07T06:59:10.266621Z",
     "iopub.status.idle": "2021-08-07T06:59:11.379745Z",
     "shell.execute_reply": "2021-08-07T06:59:11.378596Z",
     "shell.execute_reply.started": "2021-08-07T06:59:10.266946Z"
    }
   },
   "outputs": [],
   "source": [
    "from IPython.core.display import display, HTML\n",
    "\n",
    "import pandas as pd\n",
    "import numpy as np # linear algebra\n",
    "import pandas as pd # data processing, CSV file I/O (e.g. pd.read_csv)\n",
    "import glob\n",
    "import os\n",
    "import gc\n",
    "\n",
    "from joblib import Parallel, delayed\n",
    "\n",
    "from sklearn import preprocessing, model_selection\n",
    "\n",
    "from sklearn.metrics import r2_score\n",
    "\n",
    "import matplotlib.pyplot as plt \n",
    "import seaborn as sns"
   ]
  },
  {
   "cell_type": "code",
   "execution_count": 63,
   "metadata": {},
   "outputs": [],
   "source": [
    "path_root = 'data'\n",
    "path_data = 'data'\n",
    "path_submissions = '/'\n",
    "\n",
    "target_name = 'target'\n",
    "scores_folds = {}"
   ]
  },
  {
   "cell_type": "code",
   "execution_count": 23,
   "metadata": {
    "execution": {
     "iopub.execute_input": "2021-08-07T07:11:53.353638Z",
     "iopub.status.busy": "2021-08-07T07:11:53.353252Z",
     "iopub.status.idle": "2021-08-07T07:11:53.371545Z",
     "shell.execute_reply": "2021-08-07T07:11:53.370694Z",
     "shell.execute_reply.started": "2021-08-07T07:11:53.353607Z"
    }
   },
   "outputs": [],
   "source": [
    "def log_return(list_stock_prices):\n",
    "    return np.log(list_stock_prices).diff() \n",
    "\n",
    "def realized_volatility(series_log_return):\n",
    "    return np.sqrt(np.sum(series_log_return**2))\n",
    "\n",
    "def rmspe(y_true, y_pred):\n",
    "    return  (np.sqrt(np.mean(np.square((y_true - y_pred) / y_true))))\n",
    "\n",
    "def get_stock_stat(stock_id : int, dataType = 'train'):\n",
    "    key = ['stock_id', 'time_id', 'seconds_in_bucket']\n",
    "    \n",
    "    #Book features\n",
    "    df_book = pd.read_parquet(os.path.join(path_data, 'book_{}.parquet/stock_id={}/'.format(dataType, stock_id)))\n",
    "    df_book['stock_id'] = stock_id\n",
    "    cols = key + [col for col in df_book.columns if col not in key]\n",
    "    df_book = df_book[cols]\n",
    "    \n",
    "    df_book['wap1'] = (df_book['bid_price1'] * df_book['ask_size1'] +\n",
    "                                    df_book['ask_price1'] * df_book['bid_size1']) / (df_book['bid_size1'] + df_book['ask_size1'])\n",
    "    df_book['wap2'] = (df_book['bid_price2'] * df_book['ask_size2'] +\n",
    "                                    df_book['ask_price2'] * df_book['bid_size2']) / (df_book['bid_size2'] + df_book['ask_size2'])\n",
    "    df_book['log_return1'] = df_book.groupby(by = ['time_id'])['wap1'].apply(log_return).fillna(0)\n",
    "    df_book['log_return2'] = df_book.groupby(by = ['time_id'])['wap2'].apply(log_return).fillna(0)\n",
    "    \n",
    "    features_to_apply_realized_volatility = ['log_return'+str(i+1) for i in range(2)]\n",
    "    stock_stat = df_book.groupby(by = ['stock_id', 'time_id'])[features_to_apply_realized_volatility]\\\n",
    "                        .agg(realized_volatility).reset_index()\n",
    "\n",
    "    #Trade features\n",
    "    trade_stat =  pd.read_parquet(os.path.join(path_data,'trade_{}.parquet/stock_id={}'.format(dataType, stock_id)))\n",
    "    trade_stat = trade_stat.sort_values(by=['time_id', 'seconds_in_bucket']).reset_index(drop=True)\n",
    "    trade_stat['stock_id'] = stock_id\n",
    "    cols = key + [col for col in trade_stat.columns if col not in key]\n",
    "    trade_stat = trade_stat[cols]\n",
    "    trade_stat['trade_log_return1'] = trade_stat.groupby(by = ['time_id'])['price'].apply(log_return).fillna(0)\n",
    "    trade_stat = trade_stat.groupby(by = ['stock_id', 'time_id'])[['trade_log_return1']]\\\n",
    "                           .agg(realized_volatility).reset_index()\n",
    "    #Joining book and trade features\n",
    "    stock_stat = stock_stat.merge(trade_stat, on=['stock_id', 'time_id'], how='left').fillna(-999)\n",
    "    \n",
    "    return stock_stat\n",
    "\n",
    "def get_dataSet(stock_ids : list, dataType = 'train'):\n",
    "\n",
    "    stock_stat = Parallel(n_jobs=-1)(\n",
    "        delayed(get_stock_stat)(stock_id, dataType) \n",
    "        for stock_id in stock_ids\n",
    "    )\n",
    "    \n",
    "    stock_stat_df = pd.concat(stock_stat, ignore_index = True)\n",
    "\n",
    "    return stock_stat_df"
   ]
  },
  {
   "cell_type": "markdown",
   "metadata": {},
   "source": [
    "## Train and test datasets"
   ]
  },
  {
   "cell_type": "code",
   "execution_count": 76,
   "metadata": {
    "execution": {
     "iopub.execute_input": "2021-08-07T07:11:59.561715Z",
     "iopub.status.busy": "2021-08-07T07:11:59.561123Z",
     "iopub.status.idle": "2021-08-07T07:20:01.315329Z",
     "shell.execute_reply": "2021-08-07T07:20:01.314153Z",
     "shell.execute_reply.started": "2021-08-07T07:11:59.561663Z"
    }
   },
   "outputs": [
    {
     "name": "stderr",
     "output_type": "stream",
     "text": [
      "C:\\Users\\yzho0040\\Anaconda3\\lib\\site-packages\\joblib\\externals\\loky\\process_executor.py:688: UserWarning: A worker stopped while some jobs were given to the executor. This can be caused by a too short worker timeout or by a memory leak.\n",
      "  warnings.warn(\n"
     ]
    },
    {
     "name": "stdout",
     "output_type": "stream",
     "text": [
      "Wall time: 2min\n",
      "Train shape: (428932, 6)\n"
     ]
    },
    {
     "data": {
      "text/html": [
       "<div>\n",
       "<style scoped>\n",
       "    .dataframe tbody tr th:only-of-type {\n",
       "        vertical-align: middle;\n",
       "    }\n",
       "\n",
       "    .dataframe tbody tr th {\n",
       "        vertical-align: top;\n",
       "    }\n",
       "\n",
       "    .dataframe thead th {\n",
       "        text-align: right;\n",
       "    }\n",
       "</style>\n",
       "<table border=\"1\" class=\"dataframe\">\n",
       "  <thead>\n",
       "    <tr style=\"text-align: right;\">\n",
       "      <th></th>\n",
       "      <th>stock_id</th>\n",
       "      <th>time_id</th>\n",
       "      <th>target</th>\n",
       "      <th>log_return1</th>\n",
       "      <th>log_return2</th>\n",
       "      <th>trade_log_return1</th>\n",
       "    </tr>\n",
       "  </thead>\n",
       "  <tbody>\n",
       "    <tr>\n",
       "      <th>0</th>\n",
       "      <td>0</td>\n",
       "      <td>5</td>\n",
       "      <td>0.004136</td>\n",
       "      <td>0.004499</td>\n",
       "      <td>0.006999</td>\n",
       "      <td>0.002006</td>\n",
       "    </tr>\n",
       "    <tr>\n",
       "      <th>1</th>\n",
       "      <td>0</td>\n",
       "      <td>11</td>\n",
       "      <td>0.001445</td>\n",
       "      <td>0.001204</td>\n",
       "      <td>0.002476</td>\n",
       "      <td>0.000901</td>\n",
       "    </tr>\n",
       "  </tbody>\n",
       "</table>\n",
       "</div>"
      ],
      "text/plain": [
       "   stock_id  time_id    target  log_return1  log_return2  trade_log_return1\n",
       "0         0        5  0.004136     0.004499     0.006999           0.002006\n",
       "1         0       11  0.001445     0.001204     0.002476           0.000901"
      ]
     },
     "metadata": {},
     "output_type": "display_data"
    },
    {
     "name": "stdout",
     "output_type": "stream",
     "text": [
      "Test shape: (3, 6)\n"
     ]
    },
    {
     "data": {
      "text/html": [
       "<div>\n",
       "<style scoped>\n",
       "    .dataframe tbody tr th:only-of-type {\n",
       "        vertical-align: middle;\n",
       "    }\n",
       "\n",
       "    .dataframe tbody tr th {\n",
       "        vertical-align: top;\n",
       "    }\n",
       "\n",
       "    .dataframe thead th {\n",
       "        text-align: right;\n",
       "    }\n",
       "</style>\n",
       "<table border=\"1\" class=\"dataframe\">\n",
       "  <thead>\n",
       "    <tr style=\"text-align: right;\">\n",
       "      <th></th>\n",
       "      <th>stock_id</th>\n",
       "      <th>time_id</th>\n",
       "      <th>row_id</th>\n",
       "      <th>log_return1</th>\n",
       "      <th>log_return2</th>\n",
       "      <th>trade_log_return1</th>\n",
       "    </tr>\n",
       "  </thead>\n",
       "  <tbody>\n",
       "    <tr>\n",
       "      <th>0</th>\n",
       "      <td>0</td>\n",
       "      <td>4</td>\n",
       "      <td>0-4</td>\n",
       "      <td>0.000294</td>\n",
       "      <td>0.000252</td>\n",
       "      <td>0.000295</td>\n",
       "    </tr>\n",
       "    <tr>\n",
       "      <th>1</th>\n",
       "      <td>0</td>\n",
       "      <td>32</td>\n",
       "      <td>0-32</td>\n",
       "      <td>0.000000</td>\n",
       "      <td>0.000000</td>\n",
       "      <td>0.000000</td>\n",
       "    </tr>\n",
       "  </tbody>\n",
       "</table>\n",
       "</div>"
      ],
      "text/plain": [
       "   stock_id  time_id row_id  log_return1  log_return2  trade_log_return1\n",
       "0         0        4    0-4     0.000294     0.000252           0.000295\n",
       "1         0       32   0-32     0.000000     0.000000           0.000000"
      ]
     },
     "metadata": {},
     "output_type": "display_data"
    }
   ],
   "source": [
    "train = pd.read_csv(os.path.join(path_data, 'train.csv'))\n",
    "%time train_stock_stat_df = get_dataSet(stock_ids = train['stock_id'].unique(), dataType = 'train')\n",
    "train = pd.merge(train, train_stock_stat_df, on = ['stock_id', 'time_id'], how = 'left')\n",
    "print('Train shape: {}'.format(train.shape))\n",
    "display(train.head(2))\n",
    "\n",
    "test = pd.read_csv(os.path.join(path_data, 'test.csv'))\n",
    "test_stock_stat_df = get_dataSet(stock_ids = test['stock_id'].unique(), dataType = 'test')\n",
    "test = pd.merge(test, test_stock_stat_df, on = ['stock_id', 'time_id'], how = 'left').fillna(0)\n",
    "print('Test shape: {}'.format(test.shape))\n",
    "display(test.head(2))"
   ]
  },
  {
   "cell_type": "markdown",
   "metadata": {},
   "source": [
    "## Training model and making predictions"
   ]
  },
  {
   "cell_type": "code",
   "execution_count": 81,
   "metadata": {
    "execution": {
     "iopub.execute_input": "2021-07-10T14:05:25.007244Z",
     "iopub.status.busy": "2021-07-10T14:05:25.006895Z",
     "iopub.status.idle": "2021-07-10T14:05:25.012276Z",
     "shell.execute_reply": "2021-07-10T14:05:25.011158Z",
     "shell.execute_reply.started": "2021-07-10T14:05:25.007208Z"
    }
   },
   "outputs": [],
   "source": [
    "import tensorflow as tf\n",
    "from tensorflow import keras\n",
    "import numpy as np\n",
    "from tensorflow.keras import backend as K"
   ]
  },
  {
   "cell_type": "code",
   "execution_count": 85,
   "metadata": {},
   "outputs": [],
   "source": [
    "cat_data = train['stock_id']"
   ]
  },
  {
   "cell_type": "code",
   "execution_count": 88,
   "metadata": {},
   "outputs": [
    {
     "data": {
      "text/plain": [
       "<tf.Tensor 'stock_id_4:0' shape=(None, 1) dtype=float32>"
      ]
     },
     "execution_count": 88,
     "metadata": {},
     "output_type": "execute_result"
    }
   ],
   "source": [
    "stock_id_input = keras.Input(shape=(1,), name='stock_id')\n",
    "stock_id_input"
   ]
  },
  {
   "cell_type": "code",
   "execution_count": 90,
   "metadata": {},
   "outputs": [
    {
     "data": {
      "text/plain": [
       "<tf.Tensor 'stock_embedding/embedding_lookup_5/Identity_1:0' shape=(None, 1, 16) dtype=float32>"
      ]
     },
     "execution_count": 90,
     "metadata": {},
     "output_type": "execute_result"
    }
   ],
   "source": [
    "#embedding, flatenning and concatenating\n",
    "stock_embedded = keras.layers.Embedding(max(cat_data)+1, stock_embedding_size, \n",
    "                                           input_length=1, name='stock_embedding')(stock_id_input)\n",
    "stock_embedded"
   ]
  },
  {
   "cell_type": "code",
   "execution_count": 92,
   "metadata": {},
   "outputs": [
    {
     "data": {
      "text/plain": [
       "<tf.Tensor 'flatten_4/Reshape:0' shape=(None, 16) dtype=float32>"
      ]
     },
     "execution_count": 92,
     "metadata": {},
     "output_type": "execute_result"
    }
   ],
   "source": [
    "stock_flattened = keras.layers.Flatten()(stock_embedded)\n",
    "stock_flattened"
   ]
  },
  {
   "cell_type": "code",
   "execution_count": 93,
   "metadata": {},
   "outputs": [
    {
     "data": {
      "text/plain": [
       "<tf.Tensor 'concatenate_4/concat:0' shape=(None, 19) dtype=float32>"
      ]
     },
     "execution_count": 93,
     "metadata": {},
     "output_type": "execute_result"
    }
   ],
   "source": [
    "out = keras.layers.Concatenate()([stock_flattened, num_input])\n",
    "out"
   ]
  },
  {
   "cell_type": "code",
   "execution_count": null,
   "metadata": {},
   "outputs": [],
   "source": []
  },
  {
   "cell_type": "code",
   "execution_count": 91,
   "metadata": {},
   "outputs": [
    {
     "data": {
      "text/plain": [
       "<tf.Tensor 'num_data_4:0' shape=(None, 3) dtype=float32>"
      ]
     },
     "execution_count": 91,
     "metadata": {},
     "output_type": "execute_result"
    }
   ],
   "source": [
    "num_input = keras.Input(shape=(3,), name='num_data')\n",
    "num_input"
   ]
  },
  {
   "cell_type": "code",
   "execution_count": 82,
   "metadata": {
    "execution": {
     "iopub.execute_input": "2021-07-10T14:48:10.458406Z",
     "iopub.status.busy": "2021-07-10T14:48:10.457993Z",
     "iopub.status.idle": "2021-07-10T14:48:10.468387Z",
     "shell.execute_reply": "2021-07-10T14:48:10.467498Z",
     "shell.execute_reply.started": "2021-07-10T14:48:10.45835Z"
    }
   },
   "outputs": [],
   "source": [
    "hidden_units = (32,16,8,4,2)\n",
    "stock_embedding_size = 16\n",
    "\n",
    "cat_data = train['stock_id']\n",
    "\n",
    "def base_model():\n",
    "    \n",
    "    # Each instance will consist of two inputs: a single user id, and a single movie id\n",
    "    stock_id_input = keras.Input(shape=(1,), name='stock_id')\n",
    "    num_input = keras.Input(shape=(3,), name='num_data')\n",
    "\n",
    "\n",
    "    #embedding, flatenning and concatenating\n",
    "    stock_embedded = keras.layers.Embedding(max(cat_data)+1, stock_embedding_size, \n",
    "                                           input_length=1, name='stock_embedding')(stock_id_input)\n",
    "    stock_flattened = keras.layers.Flatten()(stock_embedded)\n",
    "    out = keras.layers.Concatenate()([stock_flattened, num_input])\n",
    "    \n",
    "    # Add one or more hidden layers\n",
    "    for n_hidden in hidden_units:\n",
    "\n",
    "        out = keras.layers.Dense(n_hidden, activation='selu')(out)\n",
    "        \n",
    "\n",
    "    #out = keras.layers.Concatenate()([out, num_input])\n",
    "\n",
    "    # A single output: our predicted rating\n",
    "    out = keras.layers.Dense(1, activation='linear', name='prediction')(out)\n",
    "    \n",
    "    model = keras.Model(\n",
    "    inputs = [stock_id_input, num_input],\n",
    "    outputs = out,\n",
    "    )\n",
    "    \n",
    "    return model"
   ]
  },
  {
   "cell_type": "code",
   "execution_count": 83,
   "metadata": {
    "execution": {
     "iopub.execute_input": "2021-07-10T14:48:11.211662Z",
     "iopub.status.busy": "2021-07-10T14:48:11.211132Z",
     "iopub.status.idle": "2021-07-10T14:48:11.21737Z",
     "shell.execute_reply": "2021-07-10T14:48:11.216219Z",
     "shell.execute_reply.started": "2021-07-10T14:48:11.211632Z"
    }
   },
   "outputs": [],
   "source": [
    "es = tf.keras.callbacks.EarlyStopping(\n",
    "    monitor='val_loss', min_delta=1e-05, patience=10, verbose=1,\n",
    "    mode='min', baseline=0.25)\n",
    "\n",
    "plateau = tf.keras.callbacks.ReduceLROnPlateau(\n",
    "    monitor='val_loss', factor=0.2, patience=3, verbose=1,\n",
    "    mode='min')"
   ]
  },
  {
   "cell_type": "code",
   "execution_count": 97,
   "metadata": {},
   "outputs": [],
   "source": [
    "kf = model_selection.KFold(n_splits=n_folds, shuffle=True, random_state=2020)"
   ]
  },
  {
   "cell_type": "code",
   "execution_count": 100,
   "metadata": {},
   "outputs": [
    {
     "name": "stdout",
     "output_type": "stream",
     "text": [
      "321699 107233\n",
      "321699 107233\n",
      "321699 107233\n",
      "321699 107233\n"
     ]
    }
   ],
   "source": [
    "for dev_index, val_index in kf.split(range(len(train))):\n",
    "    print(len(dev_index), len(val_index))"
   ]
  },
  {
   "cell_type": "code",
   "execution_count": 104,
   "metadata": {},
   "outputs": [
    {
     "data": {
      "text/html": [
       "<div>\n",
       "<style scoped>\n",
       "    .dataframe tbody tr th:only-of-type {\n",
       "        vertical-align: middle;\n",
       "    }\n",
       "\n",
       "    .dataframe tbody tr th {\n",
       "        vertical-align: top;\n",
       "    }\n",
       "\n",
       "    .dataframe thead th {\n",
       "        text-align: right;\n",
       "    }\n",
       "</style>\n",
       "<table border=\"1\" class=\"dataframe\">\n",
       "  <thead>\n",
       "    <tr style=\"text-align: right;\">\n",
       "      <th></th>\n",
       "      <th>stock_id</th>\n",
       "      <th>log_return1</th>\n",
       "      <th>log_return2</th>\n",
       "      <th>trade_log_return1</th>\n",
       "    </tr>\n",
       "  </thead>\n",
       "  <tbody>\n",
       "    <tr>\n",
       "      <th>0</th>\n",
       "      <td>0</td>\n",
       "      <td>0.004499</td>\n",
       "      <td>0.006999</td>\n",
       "      <td>0.002006</td>\n",
       "    </tr>\n",
       "    <tr>\n",
       "      <th>1</th>\n",
       "      <td>0</td>\n",
       "      <td>0.001204</td>\n",
       "      <td>0.002476</td>\n",
       "      <td>0.000901</td>\n",
       "    </tr>\n",
       "    <tr>\n",
       "      <th>3</th>\n",
       "      <td>0</td>\n",
       "      <td>0.002574</td>\n",
       "      <td>0.003637</td>\n",
       "      <td>0.001561</td>\n",
       "    </tr>\n",
       "    <tr>\n",
       "      <th>4</th>\n",
       "      <td>0</td>\n",
       "      <td>0.001894</td>\n",
       "      <td>0.003257</td>\n",
       "      <td>0.000871</td>\n",
       "    </tr>\n",
       "    <tr>\n",
       "      <th>5</th>\n",
       "      <td>0</td>\n",
       "      <td>0.007902</td>\n",
       "      <td>0.010336</td>\n",
       "      <td>0.003443</td>\n",
       "    </tr>\n",
       "    <tr>\n",
       "      <th>...</th>\n",
       "      <td>...</td>\n",
       "      <td>...</td>\n",
       "      <td>...</td>\n",
       "      <td>...</td>\n",
       "    </tr>\n",
       "    <tr>\n",
       "      <th>428927</th>\n",
       "      <td>126</td>\n",
       "      <td>0.003691</td>\n",
       "      <td>0.005876</td>\n",
       "      <td>0.002171</td>\n",
       "    </tr>\n",
       "    <tr>\n",
       "      <th>428928</th>\n",
       "      <td>126</td>\n",
       "      <td>0.004104</td>\n",
       "      <td>0.004991</td>\n",
       "      <td>0.002180</td>\n",
       "    </tr>\n",
       "    <tr>\n",
       "      <th>428929</th>\n",
       "      <td>126</td>\n",
       "      <td>0.003117</td>\n",
       "      <td>0.006020</td>\n",
       "      <td>0.001921</td>\n",
       "    </tr>\n",
       "    <tr>\n",
       "      <th>428930</th>\n",
       "      <td>126</td>\n",
       "      <td>0.003661</td>\n",
       "      <td>0.005362</td>\n",
       "      <td>0.002051</td>\n",
       "    </tr>\n",
       "    <tr>\n",
       "      <th>428931</th>\n",
       "      <td>126</td>\n",
       "      <td>0.002092</td>\n",
       "      <td>0.003037</td>\n",
       "      <td>0.001041</td>\n",
       "    </tr>\n",
       "  </tbody>\n",
       "</table>\n",
       "<p>321699 rows × 4 columns</p>\n",
       "</div>"
      ],
      "text/plain": [
       "        stock_id  log_return1  log_return2  trade_log_return1\n",
       "0              0     0.004499     0.006999           0.002006\n",
       "1              0     0.001204     0.002476           0.000901\n",
       "3              0     0.002574     0.003637           0.001561\n",
       "4              0     0.001894     0.003257           0.000871\n",
       "5              0     0.007902     0.010336           0.003443\n",
       "...          ...          ...          ...                ...\n",
       "428927       126     0.003691     0.005876           0.002171\n",
       "428928       126     0.004104     0.004991           0.002180\n",
       "428929       126     0.003117     0.006020           0.001921\n",
       "428930       126     0.003661     0.005362           0.002051\n",
       "428931       126     0.002092     0.003037           0.001041\n",
       "\n",
       "[321699 rows x 4 columns]"
      ]
     },
     "execution_count": 104,
     "metadata": {},
     "output_type": "execute_result"
    }
   ],
   "source": [
    "train.loc[dev_index, features_to_consider]"
   ]
  },
  {
   "cell_type": "code",
   "execution_count": 106,
   "metadata": {
    "execution": {
     "iopub.execute_input": "2021-07-10T14:48:11.996796Z",
     "iopub.status.busy": "2021-07-10T14:48:11.996404Z"
    }
   },
   "outputs": [
    {
     "name": "stdout",
     "output_type": "stream",
     "text": [
      "CV 1/4\n",
      "Epoch 1/100\n",
      "315/315 [==============================] - 7s 22ms/step - loss: 951033984.0000 - MSE: 0.0240 - val_loss: 611653.1875 - val_MSE: 9.6404e-06\n",
      "Epoch 2/100\n",
      "315/315 [==============================] - 1s 2ms/step - loss: 115068.2812 - MSE: 8.7211e-06 - val_loss: 71110.9531 - val_MSE: 5.9442e-06\n",
      "Epoch 3/100\n",
      "315/315 [==============================] - 1s 2ms/step - loss: 25754.4590 - MSE: 3.6331e-06 - val_loss: 77799.9219 - val_MSE: 3.2440e-06\n",
      "Epoch 4/100\n",
      "315/315 [==============================] - 1s 2ms/step - loss: 27283.2402 - MSE: 2.8531e-06 - val_loss: 18720.0078 - val_MSE: 2.3077e-06\n",
      "Epoch 5/100\n",
      "315/315 [==============================] - 1s 2ms/step - loss: 21646.4688 - MSE: 2.5289e-06 - val_loss: 21080.6777 - val_MSE: 2.3943e-06\n",
      "Epoch 6/100\n",
      "315/315 [==============================] - 1s 2ms/step - loss: 26734.6641 - MSE: 2.5895e-06 - val_loss: 17484.4824 - val_MSE: 2.3593e-06\n",
      "Epoch 7/100\n",
      "315/315 [==============================] - 1s 2ms/step - loss: 21756.5098 - MSE: 2.4758e-06 - val_loss: 30759.7168 - val_MSE: 3.0827e-06\n",
      "Epoch 8/100\n",
      "315/315 [==============================] - 1s 2ms/step - loss: 313605.2188 - MSE: 8.6632e-06 - val_loss: 19099.5820 - val_MSE: 2.7754e-06\n",
      "Epoch 9/100\n",
      "315/315 [==============================] - ETA: 0s - loss: 234112.2344 - MSE: 7.1270e-06\n",
      "Epoch 00009: ReduceLROnPlateau reducing learning rate to 0.0019999999552965165.\n",
      "315/315 [==============================] - 1s 2ms/step - loss: 234112.2344 - MSE: 7.1270e-06 - val_loss: 705641.0000 - val_MSE: 1.3239e-05\n",
      "Epoch 10/100\n",
      "315/315 [==============================] - 1s 2ms/step - loss: 28010.5078 - MSE: 2.9932e-06 - val_loss: 15878.1533 - val_MSE: 2.6037e-06\n",
      "Epoch 00010: early stopping\n",
      "Fold 1 NN: 0.27229\n",
      "CV 2/4\n",
      "Epoch 1/100\n",
      "315/315 [==============================] - 7s 23ms/step - loss: 47431224.0000 - MSE: 5.4499e-04 - val_loss: 11319070.0000 - val_MSE: 4.2645e-05\n",
      "Epoch 2/100\n",
      "315/315 [==============================] - 1s 2ms/step - loss: 10375820.0000 - MSE: 2.5865e-05 - val_loss: 3474174.2500 - val_MSE: 1.5191e-05\n",
      "Epoch 3/100\n",
      "315/315 [==============================] - 1s 2ms/step - loss: 2691346.2500 - MSE: 1.5102e-05 - val_loss: 278047.6562 - val_MSE: 3.1959e-06\n",
      "Epoch 4/100\n",
      "315/315 [==============================] - 1s 2ms/step - loss: 328682.1875 - MSE: 6.0650e-06 - val_loss: 633772.6875 - val_MSE: 1.0621e-05\n",
      "Epoch 5/100\n",
      "315/315 [==============================] - 1s 2ms/step - loss: 283801.0938 - MSE: 8.6023e-06 - val_loss: 34681.1797 - val_MSE: 2.8767e-06\n",
      "Epoch 6/100\n",
      "315/315 [==============================] - 1s 2ms/step - loss: 185785.7188 - MSE: 6.2328e-06 - val_loss: 17868.0898 - val_MSE: 2.4774e-06\n",
      "Epoch 7/100\n",
      "315/315 [==============================] - 1s 2ms/step - loss: 207889.0781 - MSE: 6.7137e-06 - val_loss: 33522.8828 - val_MSE: 3.2261e-06\n",
      "Epoch 8/100\n",
      "315/315 [==============================] - 1s 2ms/step - loss: 112445.9375 - MSE: 4.5776e-06 - val_loss: 45511.3164 - val_MSE: 3.8857e-06\n",
      "Epoch 9/100\n",
      "287/315 [==========================>...] - ETA: 0s - loss: 123191.5391 - MSE: 4.7614e-06\n",
      "Epoch 00009: ReduceLROnPlateau reducing learning rate to 0.0019999999552965165.\n",
      "315/315 [==============================] - 1s 2ms/step - loss: 118454.2812 - MSE: 4.6587e-06 - val_loss: 46624.5469 - val_MSE: 2.2133e-06\n",
      "Epoch 10/100\n",
      "315/315 [==============================] - 1s 2ms/step - loss: 16129.3213 - MSE: 2.3239e-06 - val_loss: 27463.9922 - val_MSE: 3.1329e-06\n",
      "Epoch 00010: early stopping\n",
      "Fold 2 NN: 0.35802\n",
      "CV 3/4\n",
      "Epoch 1/100\n",
      "315/315 [==============================] - 8s 24ms/step - loss: 77828528.0000 - MSE: 0.0012 - val_loss: 2638478.2500 - val_MSE: 6.8712e-05\n",
      "Epoch 2/100\n",
      "315/315 [==============================] - 1s 2ms/step - loss: 4247923.5000 - MSE: 1.1586e-05 - val_loss: 161777.3594 - val_MSE: 6.5273e-06\n",
      "Epoch 3/100\n",
      "315/315 [==============================] - 1s 2ms/step - loss: 1612035.3750 - MSE: 7.1842e-06 - val_loss: 82107.1250 - val_MSE: 6.4182e-06\n",
      "Epoch 4/100\n",
      "315/315 [==============================] - 1s 2ms/step - loss: 35440.4141 - MSE: 3.7177e-06 - val_loss: 36954.1914 - val_MSE: 3.1829e-06\n",
      "Epoch 5/100\n",
      "315/315 [==============================] - 1s 2ms/step - loss: 49794.3711 - MSE: 3.4096e-06 - val_loss: 30299.5469 - val_MSE: 3.2101e-06\n",
      "Epoch 6/100\n",
      "315/315 [==============================] - 1s 2ms/step - loss: 39358.4688 - MSE: 3.0958e-06 - val_loss: 18547.2207 - val_MSE: 2.6542e-06\n",
      "Epoch 7/100\n",
      "315/315 [==============================] - 1s 2ms/step - loss: 41075.6602 - MSE: 3.0537e-06 - val_loss: 112799.7812 - val_MSE: 3.1523e-06\n",
      "Epoch 8/100\n",
      "315/315 [==============================] - 1s 2ms/step - loss: 50214.8086 - MSE: 3.2024e-06 - val_loss: 25049.6641 - val_MSE: 2.3698e-06\n",
      "Epoch 9/100\n",
      "296/315 [===========================>..] - ETA: 0s - loss: 76760.8672 - MSE: 3.7773e-06\n",
      "Epoch 00009: ReduceLROnPlateau reducing learning rate to 0.0019999999552965165.\n",
      "315/315 [==============================] - 1s 2ms/step - loss: 76757.0781 - MSE: 3.7741e-06 - val_loss: 67241.9688 - val_MSE: 2.6768e-06\n",
      "Epoch 10/100\n",
      "315/315 [==============================] - 1s 2ms/step - loss: 17739.9004 - MSE: 2.4379e-06 - val_loss: 15579.0244 - val_MSE: 2.3417e-06\n",
      "Epoch 00010: early stopping\n",
      "Fold 3 NN: 0.26949\n",
      "CV 4/4\n",
      "Epoch 1/100\n",
      "315/315 [==============================] - 7s 23ms/step - loss: 154405792.0000 - MSE: 0.0026 - val_loss: 161676.8125 - val_MSE: 1.5369e-05\n",
      "Epoch 2/100\n",
      "315/315 [==============================] - 1s 2ms/step - loss: 729999.0625 - MSE: 1.3225e-05 - val_loss: 64046.0039 - val_MSE: 9.5517e-06\n",
      "Epoch 3/100\n",
      "315/315 [==============================] - 1s 2ms/step - loss: 50905.3711 - MSE: 9.3974e-06 - val_loss: 43818.2305 - val_MSE: 8.7846e-06\n",
      "Epoch 4/100\n",
      "315/315 [==============================] - 1s 2ms/step - loss: 75064.2734 - MSE: 8.8009e-06 - val_loss: 294862.7500 - val_MSE: 1.5409e-05\n",
      "Epoch 5/100\n",
      "315/315 [==============================] - 1s 2ms/step - loss: 243136.3438 - MSE: 1.2107e-05 - val_loss: 38349.5430 - val_MSE: 7.6449e-06\n",
      "Epoch 6/100\n",
      "315/315 [==============================] - 1s 2ms/step - loss: 234857.8438 - MSE: 1.1754e-05 - val_loss: 43419.0195 - val_MSE: 7.1677e-06\n",
      "Epoch 7/100\n",
      "315/315 [==============================] - 1s 2ms/step - loss: 406680.6875 - MSE: 1.5850e-05 - val_loss: 62307.3516 - val_MSE: 7.6599e-06\n",
      "Epoch 8/100\n",
      "304/315 [===========================>..] - ETA: 0s - loss: 41207.4219 - MSE: 7.2957e-06\n",
      "Epoch 00008: ReduceLROnPlateau reducing learning rate to 0.0019999999552965165.\n",
      "315/315 [==============================] - 1s 2ms/step - loss: 41050.4805 - MSE: 7.2789e-06 - val_loss: 39314.2969 - val_MSE: 7.4280e-06\n",
      "Epoch 9/100\n",
      "315/315 [==============================] - 1s 2ms/step - loss: 34359.8438 - MSE: 7.0079e-06 - val_loss: 34563.6055 - val_MSE: 6.9075e-06\n",
      "Epoch 10/100\n",
      "315/315 [==============================] - 1s 2ms/step - loss: 34250.1094 - MSE: 6.9825e-06 - val_loss: 34358.0078 - val_MSE: 7.1163e-06\n",
      "Epoch 00010: early stopping\n",
      "Fold 4 NN: 0.40083\n"
     ]
    }
   ],
   "source": [
    "model_name = 'NN'\n",
    "pred_name = 'pred_{}'.format(model_name)\n",
    "\n",
    "n_folds = 4\n",
    "kf = model_selection.KFold(n_splits=n_folds, shuffle=True, random_state=2020)\n",
    "scores_folds[model_name] = []\n",
    "counter = 1\n",
    "\n",
    "features_to_consider = ['stock_id','log_return1','log_return2','trade_log_return1']\n",
    "\n",
    "train[pred_name] = 0\n",
    "test['target'] = 0\n",
    "\n",
    "for dev_index, val_index in kf.split(range(len(train))):\n",
    "    print('CV {}/{}'.format(counter, n_folds))\n",
    "    \n",
    "    #Bottleneck ? \n",
    "    X_train = train.loc[dev_index, features_to_consider]\n",
    "    y_train = train.loc[dev_index, target_name].values\n",
    "    X_test = train.loc[val_index, features_to_consider]\n",
    "    y_test = train.loc[val_index, target_name].values\n",
    "    \n",
    "    #############################################################################################\n",
    "    # NN\n",
    "    #############################################################################################\n",
    "    \n",
    "    model = base_model()\n",
    "    \n",
    "    model.compile(\n",
    "        keras.optimizers.Adam(learning_rate=0.01),\n",
    "        loss=tf.keras.metrics.mean_squared_error,\n",
    "        loss_weights = 1/np.square(target),\n",
    "        metrics=['MSE'],\n",
    "    )\n",
    "\n",
    "\n",
    "    num_data = X_train[['log_return1','log_return2','trade_log_return1']]\n",
    "    cat_data = X_train['stock_id']\n",
    "    target =  y_train\n",
    "    \n",
    "    num_data_test = X_test[['log_return1','log_return2','trade_log_return1']]\n",
    "    cat_data_test = X_test['stock_id']\n",
    "\n",
    "    model.fit([cat_data, num_data], \n",
    "              target, \n",
    "              sample_weight = 1/np.square(target),\n",
    "              batch_size=1024,\n",
    "              epochs=100,\n",
    "              validation_data=([cat_data_test, num_data_test], y_test, 1/np.square(y_test)),\n",
    "              callbacks=[es, plateau],\n",
    "              shuffle=True,\n",
    "             verbose = 1)\n",
    "\n",
    "    preds = model.predict([cat_data_test, num_data_test]).reshape(1,-1)[0]\n",
    "    \n",
    "    score = round(rmspe(y_true = y_test, y_pred = preds),5)\n",
    "    print('Fold {} {}: {}'.format(counter, model_name, score))\n",
    "    scores_folds[model_name].append(score)\n",
    "    test[target_name] += model.predict([test['stock_id'], test[['log_return1','log_return2','trade_log_return1']]]).reshape(1,-1)[0].clip(0,1e10)\n",
    "       \n",
    "    counter += 1"
   ]
  },
  {
   "cell_type": "code",
   "execution_count": 107,
   "metadata": {},
   "outputs": [
    {
     "name": "stdout",
     "output_type": "stream",
     "text": [
      "RMSPE NN: 1.0 - Folds: [0.27229, 0.35802, 0.26949, 0.40083]\n"
     ]
    },
    {
     "data": {
      "text/html": [
       "<div>\n",
       "<style scoped>\n",
       "    .dataframe tbody tr th:only-of-type {\n",
       "        vertical-align: middle;\n",
       "    }\n",
       "\n",
       "    .dataframe tbody tr th {\n",
       "        vertical-align: top;\n",
       "    }\n",
       "\n",
       "    .dataframe thead th {\n",
       "        text-align: right;\n",
       "    }\n",
       "</style>\n",
       "<table border=\"1\" class=\"dataframe\">\n",
       "  <thead>\n",
       "    <tr style=\"text-align: right;\">\n",
       "      <th></th>\n",
       "      <th>row_id</th>\n",
       "      <th>target</th>\n",
       "    </tr>\n",
       "  </thead>\n",
       "  <tbody>\n",
       "    <tr>\n",
       "      <th>0</th>\n",
       "      <td>0-4</td>\n",
       "      <td>0.000981</td>\n",
       "    </tr>\n",
       "    <tr>\n",
       "      <th>1</th>\n",
       "      <td>0-32</td>\n",
       "      <td>0.000859</td>\n",
       "    </tr>\n",
       "  </tbody>\n",
       "</table>\n",
       "</div>"
      ],
      "text/plain": [
       "  row_id    target\n",
       "0    0-4  0.000981\n",
       "1   0-32  0.000859"
      ]
     },
     "metadata": {},
     "output_type": "display_data"
    }
   ],
   "source": [
    "test[target_name] = test[target_name]/n_folds\n",
    "\n",
    "score = round(rmspe(y_true = train[target_name].values, y_pred = train[pred_name].values),5)\n",
    "print('RMSPE {}: {} - Folds: {}'.format(model_name, score, scores_folds[model_name]))\n",
    "\n",
    "display(test[['row_id', target_name]].head(2))\n",
    "test[['row_id', target_name]].to_csv('submission.csv',index = False)"
   ]
  },
  {
   "cell_type": "code",
   "execution_count": 105,
   "metadata": {
    "execution": {
     "iopub.execute_input": "2021-07-10T14:47:25.484946Z",
     "iopub.status.busy": "2021-07-10T14:47:25.484546Z",
     "iopub.status.idle": "2021-07-10T14:47:25.508616Z",
     "shell.execute_reply": "2021-07-10T14:47:25.507661Z",
     "shell.execute_reply.started": "2021-07-10T14:47:25.484914Z"
    }
   },
   "outputs": [
    {
     "name": "stdout",
     "output_type": "stream",
     "text": [
      "RMSPE NN: 1.0 - Folds: [0.32425, 0.26247, 0.2569, 0.25021]\n"
     ]
    },
    {
     "data": {
      "text/html": [
       "<div>\n",
       "<style scoped>\n",
       "    .dataframe tbody tr th:only-of-type {\n",
       "        vertical-align: middle;\n",
       "    }\n",
       "\n",
       "    .dataframe tbody tr th {\n",
       "        vertical-align: top;\n",
       "    }\n",
       "\n",
       "    .dataframe thead th {\n",
       "        text-align: right;\n",
       "    }\n",
       "</style>\n",
       "<table border=\"1\" class=\"dataframe\">\n",
       "  <thead>\n",
       "    <tr style=\"text-align: right;\">\n",
       "      <th></th>\n",
       "      <th>row_id</th>\n",
       "      <th>target</th>\n",
       "    </tr>\n",
       "  </thead>\n",
       "  <tbody>\n",
       "    <tr>\n",
       "      <th>0</th>\n",
       "      <td>0-4</td>\n",
       "      <td>0.000817</td>\n",
       "    </tr>\n",
       "    <tr>\n",
       "      <th>1</th>\n",
       "      <td>0-32</td>\n",
       "      <td>0.000655</td>\n",
       "    </tr>\n",
       "  </tbody>\n",
       "</table>\n",
       "</div>"
      ],
      "text/plain": [
       "  row_id    target\n",
       "0    0-4  0.000817\n",
       "1   0-32  0.000655"
      ]
     },
     "metadata": {},
     "output_type": "display_data"
    }
   ],
   "source": [
    "test[target_name] = test[target_name]/n_folds\n",
    "\n",
    "score = round(rmspe(y_true = train[target_name].values, y_pred = train[pred_name].values),5)\n",
    "print('RMSPE {}: {} - Folds: {}'.format(model_name, score, scores_folds[model_name]))\n",
    "\n",
    "display(test[['row_id', target_name]].head(2))\n",
    "test[['row_id', target_name]].to_csv('submission.csv',index = False)"
   ]
  },
  {
   "cell_type": "markdown",
   "metadata": {},
   "source": []
  }
 ],
 "metadata": {
  "kernelspec": {
   "display_name": "Python 3",
   "language": "python",
   "name": "python3"
  },
  "language_info": {
   "codemirror_mode": {
    "name": "ipython",
    "version": 3
   },
   "file_extension": ".py",
   "mimetype": "text/x-python",
   "name": "python",
   "nbconvert_exporter": "python",
   "pygments_lexer": "ipython3",
   "version": "3.8.8"
  }
 },
 "nbformat": 4,
 "nbformat_minor": 4
}
